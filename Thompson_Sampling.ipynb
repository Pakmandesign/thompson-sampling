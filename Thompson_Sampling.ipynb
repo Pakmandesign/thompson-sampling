{
  "nbformat": 4,
  "nbformat_minor": 0,
  "metadata": {
    "colab": {
      "provenance": []
    },
    "kernelspec": {
      "name": "python3",
      "display_name": "Python 3"
    },
    "language_info": {
      "name": "python"
    }
  },
  "cells": [
    {
      "cell_type": "code",
      "execution_count": null,
      "metadata": {
        "id": "90-mqkm1yj0s"
      },
      "outputs": [],
      "source": [
        "import numpy as np\n",
        "import pandas as pd\n",
        "import matplotlib.pyplot as plt\n",
        "import seaborn as sns\n"
      ]
    },
    {
      "cell_type": "code",
      "source": [],
      "metadata": {
        "id": "XM2eZAwpyvYT"
      },
      "execution_count": null,
      "outputs": []
    },
    {
      "cell_type": "markdown",
      "source": [
        "Define Enviornmnet"
      ],
      "metadata": {
        "id": "L3Cw4zLByz-A"
      }
    },
    {
      "cell_type": "code",
      "source": [
        "number_of_turns = 10000\n",
        "\n",
        "number_of_slot_machines = 10\n",
        "\n",
        "# define arrays where we can keep track of our wins (positive rewards)\n",
        "# and losses (negavitve rewards) for each slot machine\n",
        "# they will be used to deterine the shape of the beta distribution\n",
        "number_of_positive_rewards = np.zeros(number_of_slot_machines)\n",
        "number_of_negative_rewards = np.zeros(number_of_slot_machines)\n",
        "\n",
        "np.random.seed(33)\n",
        "\n",
        "# create a random conversion rate between 1% and 15% for each slot machine\n",
        "conversion_rates = np.random.uniform(low=0.01, high=0.15, size=number_of_slot_machines)\n",
        "\n",
        "# Show conversion rates for each slot machine. Remember that in a real-world scenario\n",
        "# the decision-maker would not know this information!\n",
        "for i in range(number_of_slot_machines):\n",
        "    print(\"Slot machine {} has a conversion rate of {:.1f}%\".format(i, conversion_rates[i]*100))\n",
        "\n"
      ],
      "metadata": {
        "colab": {
          "base_uri": "https://localhost:8080/"
        },
        "id": "7TPEYploy1cc",
        "outputId": "6263a5aa-4004-4d6e-860c-55e3ed13f54e"
      },
      "execution_count": null,
      "outputs": [
        {
          "output_type": "stream",
          "name": "stdout",
          "text": [
            "Slot machine 0 has a conversion rate of 4.5%\n",
            "Slot machine 1 has a conversion rate of 7.3%\n",
            "Slot machine 2 has a conversion rate of 6.8%\n",
            "Slot machine 3 has a conversion rate of 4.6%\n",
            "Slot machine 4 has a conversion rate of 13.2%\n",
            "Slot machine 5 has a conversion rate of 3.6%\n",
            "Slot machine 6 has a conversion rate of 1.3%\n",
            "Slot machine 7 has a conversion rate of 14.3%\n",
            "Slot machine 8 has a conversion rate of 10.5%\n",
            "Slot machine 9 has a conversion rate of 7.8%\n"
          ]
        }
      ]
    },
    {
      "cell_type": "markdown",
      "source": [
        "Create the data set"
      ],
      "metadata": {
        "id": "_r6qAdXF0Xen"
      }
    },
    {
      "cell_type": "code",
      "source": [
        "# define a seed for the random number generator (to ensure that results are reproducible)\n",
        "np.random.seed(55)\n",
        "\n",
        "# The dataset is a matrix with one row for each turn, and one column for each slot machine.\n",
        "# Each item in t0e matrix represents the outcome of what would happen if we were to play a particular slot machine on that particular turn.\n",
        "# While a value of \"0\" indicates that would lose. The number of \"wins\" for each slot machine is determined by its conversion rate.\n",
        "outcomes = np.zeros((number_of_turns, number_of_slot_machines)) #create a two-dimensional numpy array, and fill it with zeros\n",
        "for turn_index in range(number_of_turns): #for each turn\n",
        "    for slot_machine_index in range(number_of_slot_machines): #for each slot machine\n",
        "        # Get a random number between 0.0 and 1.0.\n",
        "        # if the random number is less than or equal to this slot machine's conversion rate, then set the outcome to \"1\"\n",
        "        # Otherwise, the outcome will be \"0\" because the entire matrix was initially filled with zeros.\n",
        "        if np.random.random() <= conversion_rates[slot_machine_index]:\n",
        "            outcomes[turn_index][slot_machine_index] = 1\n",
        "\n",
        "# display the first 15 rows of data\n",
        "print(outcomes[:15])\n",
        "\n",
        "\n",
        "\n"
      ],
      "metadata": {
        "colab": {
          "base_uri": "https://localhost:8080/"
        },
        "id": "Q7iRRISB0Ylj",
        "outputId": "81685ed8-4938-442d-d562-ae566366712b"
      },
      "execution_count": null,
      "outputs": [
        {
          "output_type": "stream",
          "name": "stdout",
          "text": [
            "[[0. 0. 0. 0. 0. 0. 0. 1. 0. 0.]\n",
            " [0. 0. 1. 0. 0. 0. 0. 0. 0. 0.]\n",
            " [0. 0. 1. 0. 0. 0. 0. 0. 0. 0.]\n",
            " [0. 0. 0. 1. 0. 0. 0. 0. 0. 0.]\n",
            " [0. 0. 0. 0. 1. 0. 0. 0. 0. 0.]\n",
            " [0. 0. 0. 0. 0. 0. 0. 0. 0. 0.]\n",
            " [0. 0. 0. 0. 0. 0. 0. 0. 0. 0.]\n",
            " [1. 0. 0. 0. 0. 0. 0. 1. 0. 0.]\n",
            " [0. 0. 1. 0. 0. 0. 0. 0. 0. 0.]\n",
            " [0. 0. 0. 0. 0. 0. 0. 0. 0. 0.]\n",
            " [0. 0. 0. 0. 1. 0. 0. 0. 0. 0.]\n",
            " [0. 0. 0. 0. 0. 0. 0. 0. 0. 0.]\n",
            " [0. 1. 0. 0. 0. 0. 0. 0. 1. 0.]\n",
            " [0. 0. 0. 0. 0. 0. 0. 0. 0. 1.]\n",
            " [0. 0. 0. 0. 0. 0. 0. 1. 0. 1.]]\n"
          ]
        }
      ]
    },
    {
      "cell_type": "code",
      "source": [
        "# Show means (i.e., conversion ratess) for each column (i.e., for each slot machine)\n",
        "for i in range(number_of_slot_machines):\n",
        "    print(\"Mean for column {0}: {1:.2%}\".format(i, np.mean(outcomes[:,i]) ) )"
      ],
      "metadata": {
        "colab": {
          "base_uri": "https://localhost:8080/"
        },
        "id": "yf2VLof_0_qF",
        "outputId": "57d6f7bf-05c8-477f-e441-7e7dda55a720"
      },
      "execution_count": null,
      "outputs": [
        {
          "output_type": "stream",
          "name": "stdout",
          "text": [
            "Mean for column 0: 4.53%\n",
            "Mean for column 1: 7.32%\n",
            "Mean for column 2: 6.70%\n",
            "Mean for column 3: 4.31%\n",
            "Mean for column 4: 13.09%\n",
            "Mean for column 5: 3.80%\n",
            "Mean for column 6: 1.14%\n",
            "Mean for column 7: 14.10%\n",
            "Mean for column 8: 10.73%\n",
            "Mean for column 9: 8.17%\n"
          ]
        }
      ]
    },
    {
      "cell_type": "markdown",
      "source": [
        "Thompson Sampling"
      ],
      "metadata": {
        "id": "ZUn-DLHt8Nux"
      }
    },
    {
      "cell_type": "code",
      "source": [
        "# for each turn\n",
        "for turn_index in range(number_of_turns):\n",
        "  index_of_machine_to_play = -1\n",
        "  max_beta = -1\n",
        "\n",
        "  for slot_machine_index in range(number_of_slot_machines):\n",
        "    # Define the shape parameters for the beta distribution. The shape will depend on the number\n",
        "    # of wins and losses that have thus far been observed for this particular slot machine.\n",
        "    a = number_of_positive_rewards[slot_machine_index] + 1\n",
        "    b = number_of_negative_rewards[slot_machine_index] + 1\n",
        "\n",
        "    # Get a ramdp, value from the beta distribution whose shape is defined by number of\n",
        "    # wins and losses that have thus far been observed for this slot machine\n",
        "    random_beta = np.random.beta(a,b)\n",
        "\n",
        "    # if this is the largest beta value thus far observed for this iteration\n",
        "    if random_beta > max_beta:\n",
        "      max_beta = random_beta #update the max beta value thus far observed\n",
        "      index_of_machine_to_play = slot_machine_index #set the machine to play to the current machine\n",
        "\n",
        "  # play the selected slot machine, and record whether we win or lose\n",
        "  if outcomes[turn_index][index_of_machine_to_play] == 1:\n",
        "    number_of_positive_rewards[index_of_machine_to_play] += 1\n",
        "  else:\n",
        "    number_of_negative_rewards[index_of_machine_to_play] += 1\n",
        "\n",
        "# computer and display the total number of times each slot machine was played\n",
        "number_of_times_played = number_of_positive_rewards + number_of_negative_rewards\n",
        "for slot_machine_index in range(number_of_slot_machines):\n",
        "  print(\"Slot machine {0} has been played {1} times\".format(slot_machine_index, number_of_times_played[slot_machine_index]))\n",
        "\n",
        "# indentify and display the best slot machine to play\n",
        "print('\\nOVerall Conclusion: The best slot machine to play is machine {}!'.format(np.argmax(number_of_times_played)))"
      ],
      "metadata": {
        "colab": {
          "base_uri": "https://localhost:8080/"
        },
        "id": "YHH1y4vO8NfK",
        "outputId": "e31bf599-1bf6-4964-fd43-c6d22a85a83c"
      },
      "execution_count": null,
      "outputs": [
        {
          "output_type": "stream",
          "name": "stdout",
          "text": [
            "Slot machine 0 has been played 142.0 times\n",
            "Slot machine 1 has been played 86.0 times\n",
            "Slot machine 2 has been played 99.0 times\n",
            "Slot machine 3 has been played 178.0 times\n",
            "Slot machine 4 has been played 380.0 times\n",
            "Slot machine 5 has been played 83.0 times\n",
            "Slot machine 6 has been played 57.0 times\n",
            "Slot machine 7 has been played 8327.0 times\n",
            "Slot machine 8 has been played 590.0 times\n",
            "Slot machine 9 has been played 58.0 times\n",
            "\n",
            "OVerall Conclusion: The best slot machine to play is machine 7!\n"
          ]
        }
      ]
    },
    {
      "cell_type": "code",
      "source": [
        "#compute total number of wins using Thompson Sampling strategy\n",
        "total_wins_thompson_sampling = np.sum(number_of_positive_rewards)\n",
        "\n",
        "#display results\n",
        "print('Total wins with Thompson Sampling: {0:.0f}'.format(total_wins_thompson_sampling))"
      ],
      "metadata": {
        "colab": {
          "base_uri": "https://localhost:8080/"
        },
        "id": "dYv2XcGj8IgO",
        "outputId": "93ae1ebd-19f9-4fe8-edd7-3115a6c6153a"
      },
      "execution_count": null,
      "outputs": [
        {
          "output_type": "stream",
          "name": "stdout",
          "text": [
            "Total wins with Thompson Sampling: 1324\n"
          ]
        }
      ]
    },
    {
      "cell_type": "code",
      "source": [],
      "metadata": {
        "id": "xSPdoI_BFAgB"
      },
      "execution_count": null,
      "outputs": []
    }
  ]
}